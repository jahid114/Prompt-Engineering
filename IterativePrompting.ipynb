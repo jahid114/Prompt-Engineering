{
 "cells": [
  {
   "cell_type": "markdown",
   "metadata": {},
   "source": [
    "# Iterative Prompt Development\n",
    "\n",
    "### Prompt Guideline\n",
    "- Be clear and specific\n",
    "- Analyze why result does not give desired output\n",
    "- Refine the idea and the prompt\n",
    "- Repeat\n",
    "\n",
    "### Iterative Process\n",
    "- Try Something\n",
    "- Analyze where the result does not give what you want\n",
    "- Clarify instructions, give more time to think( means more step by step instructions )\n",
    "\n",
    "### How to improve response\n",
    "- If the response is too big, limit the number of words/sentences/characters\n",
    "- If the response focus on wrong details, ask it to focus on the aspects that are relevant to the intended audience\n",
    "\n"
   ]
  }
 ],
 "metadata": {
  "language_info": {
   "name": "python"
  }
 },
 "nbformat": 4,
 "nbformat_minor": 2
}
