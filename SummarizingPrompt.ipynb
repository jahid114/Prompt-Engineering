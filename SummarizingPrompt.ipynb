{
 "cells": [
  {
   "cell_type": "markdown",
   "metadata": {},
   "source": [
    "### Summarizing\n",
    "- Summarize with a word/sentence/character limit\n",
    "- Summarize with a focus on specific topic( mention the topic in the prompt )\n",
    "- For exact information use 'extract' instead of 'summary'"
   ]
  }
 ],
 "metadata": {
  "language_info": {
   "name": "python"
  }
 },
 "nbformat": 4,
 "nbformat_minor": 2
}
